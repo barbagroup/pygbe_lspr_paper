{
 "cells": [
  {
   "cell_type": "markdown",
   "metadata": {},
   "source": [
    "# Convergence analysis "
   ]
  },
  {
   "cell_type": "code",
   "execution_count": 1,
   "metadata": {
    "collapsed": true
   },
   "outputs": [],
   "source": [
    "import numpy\n",
    "import pickle\n",
    "import convergence_helper \n",
    "from matplotlib import pyplot, rcParams\n",
    "%matplotlib inline"
   ]
  },
  {
   "cell_type": "markdown",
   "metadata": {},
   "source": [
    "### General information about computations. "
   ]
  },
  {
   "cell_type": "markdown",
   "metadata": {
    "collapsed": true
   },
   "source": [
    "**Parameters used for convergence analysis:** \n",
    "```\n",
    "Precision   double\n",
    "K           4\n",
    "Nk          9  \n",
    "K_fine      37\n",
    "thresold    0.5\n",
    "BSZ         128\n",
    "restart     100\n",
    "tolerance   1e-5\n",
    "max_iter    1000\n",
    "P           15\n",
    "eps         1e-12\n",
    "NCRIT       500\n",
    "theta       0.5   \n",
    "GPU         1\n",
    "```"
   ]
  },
  {
   "cell_type": "markdown",
   "metadata": {},
   "source": [
    "# Ag sphere\n",
    "\n",
    "We run the single sphere LSPR problem for meshes of 512, 2048, 8192 and 32768 elements, \n",
    "\n",
    "Problem parameters:\n",
    "\n",
    "* Metal    : Silver (Ag). (In water at room temeprature)\n",
    "* Radius   : 8 nm\n",
    "* Wavelength: 380 nm\n",
    "\n",
    "Values of dielectric constants obtained by interpolation:\n",
    "\n",
    "* Water dielectric: 1.79721+8.50477e-09j\n",
    "* Silver dielectric: -3.38765+0.19221j\n"
   ]
  },
  {
   "cell_type": "markdown",
   "metadata": {},
   "source": [
    "### Loading results data"
   ]
  },
  {
   "cell_type": "code",
   "execution_count": 2,
   "metadata": {
    "collapsed": true
   },
   "outputs": [],
   "source": [
    "res_sph_Ag = convergence_helper.pickleload('data/sph_sensor_Ag/sph_sensor_Ag_convergence.pickle')"
   ]
  },
  {
   "cell_type": "code",
   "execution_count": 3,
   "metadata": {},
   "outputs": [
    {
     "data": {
      "text/plain": [
       "{'sph_sensor_Ag': {'Cext_0': array([ 2408.14754193,  1990.45817774,  1889.79976177,  1864.09841232]),\n",
       "  'N': array([   512.,   2048.,   8192.,  32768.]),\n",
       "  'Time': array([  13.94423103,    8.46635199,   63.42855287,  368.20791411]),\n",
       "  'analytical': 1854.4764733250092,\n",
       "  'error': array([ 0.29855923,  0.0733262 ,  0.01904758,  0.00518849]),\n",
       "  'expected_rate': 4.0,\n",
       "  'iterations': array([ 12.,  16.,  20.,  25.])}}"
      ]
     },
     "execution_count": 3,
     "metadata": {},
     "output_type": "execute_result"
    }
   ],
   "source": [
    "res_sph_Ag"
   ]
  },
  {
   "cell_type": "code",
   "execution_count": 4,
   "metadata": {
    "collapsed": true
   },
   "outputs": [],
   "source": [
    "num_elements_Ag = res_sph_Ag['sph_sensor_Ag']['N']\n",
    "C_ext_Ag = res_sph_Ag['sph_sensor_Ag']['Cext_0']\n",
    "rate_Ag = res_sph_Ag['sph_sensor_Ag']['expected_rate']\n",
    "rel_err_Ag = res_sph_Ag['sph_sensor_Ag']['error']"
   ]
  },
  {
   "cell_type": "markdown",
   "metadata": {},
   "source": [
    "### Computing order of convergence"
   ]
  },
  {
   "cell_type": "code",
   "execution_count": 5,
   "metadata": {},
   "outputs": [
    {
     "name": "stdout",
     "output_type": "stream",
     "text": [
      "The order of convergence obtained using meshes of 2k, 8k, and 32k elements is 0.98\n"
     ]
    }
   ],
   "source": [
    "ord_conv_Ag = convergence_helper.ord_convergence(C_ext_Ag, 4)\n",
    "print('The order of convergence obtained using meshes of 2k, 8k, and 32k elements is {:.2f}'.format(ord_conv_Ag))"
   ]
  },
  {
   "cell_type": "markdown",
   "metadata": {},
   "source": [
    "### Generating plot"
   ]
  },
  {
   "cell_type": "code",
   "execution_count": 6,
   "metadata": {},
   "outputs": [
    {
     "data": {
      "image/png": "[encoded data removed]",
      "text/plain": [
       "<Figure size 432x288 with 1 Axes>"
      ]
     },
     "metadata": {},
     "output_type": "display_data"
    }
   ],
   "source": [
    "convergence_helper.plot_sph_complex_convergence(num_elements_Ag, rel_err_Ag, Ag=True)"
   ]
  },
  {
   "cell_type": "markdown",
   "metadata": {},
   "source": [
    "### Generating plot as in paper"
   ]
  },
  {
   "cell_type": "code",
   "execution_count": 7,
   "metadata": {},
   "outputs": [],
   "source": [
    "#Running this line you reproduce the exact pdf figure as it appears in the paper\n",
    "convergence_helper.plot_sph_complex_convergence(\n",
    "    num_elements_Ag, rel_err_Ag, file_name='convergence_sph_Ag_R8_w=380', Ag=True, paper=True)"
   ]
  },
  {
   "cell_type": "markdown",
   "metadata": {},
   "source": [
    "# BSA sensor system\n",
    "\n",
    "Convergence analysis of a silver spherical sensor of radius 8 nm with a Bovine Serum Albumina (BSA) protein located at 1 nm of distance in the `z` direction. \n",
    "\n",
    "We selected a constant density of 2 triangles per Angstrom square for the protein mesh, while varying the density of the spherical sensor (512, 2048, 8192, 32768 elements). We computed the order of convergence and Richardson extarpolation using the 3 finest meshes, and calculated the respective relative errors. Finally, we analyze the relative errors for differente tolerances and protein meshes to relax the parameters to perform the simulations. \n",
    "\n",
    "Problem parameters:\n",
    "\n",
    "* Metal    : Silver (Ag). (In water at room temeprature)\n",
    "* Radius   : 8 nm\n",
    "* Wavelength: 380 nm\n",
    "\n",
    "Values of dielectric constants obtained by interpolation:\n",
    "\n",
    "* Water dielectric: 1.79721+8.50477e-09j\n",
    "* Silver dielectric: -3.38765+0.19221j\n",
    "* Protein dielectric: 2.75143+0.28602j\n"
   ]
  },
  {
   "cell_type": "markdown",
   "metadata": {},
   "source": [
    "### Loading results data"
   ]
  },
  {
   "cell_type": "code",
   "execution_count": 8,
   "metadata": {},
   "outputs": [],
   "source": [
    "res_bsa_sph = convergence_helper.pickleload('data/sphere_bsa/sphere_bsa_convergence.pickle')"
   ]
  },
  {
   "cell_type": "code",
   "execution_count": 9,
   "metadata": {},
   "outputs": [
    {
     "data": {
      "text/plain": [
       "{'sphere_bsa': {'Cext_0': array([ 2301.56988701,  1905.62523724,  1811.09373056,  1786.98185102]),\n",
       "  'N': array([  98628.,  100164.,  106308.,  130884.]),\n",
       "  'Time': array([ 8232.30674219,  8231.11177182,  7656.23715186,  9579.5464294 ]),\n",
       "  'error': array([ 0.293943  ,  0.07134284,  0.01819721,  0.00464151]),\n",
       "  'expected_rate': 0,\n",
       "  'iterations': array([ 136.,  134.,  119.,  123.]),\n",
       "  'rich_extra': 1778.725875259727}}"
      ]
     },
     "execution_count": 9,
     "metadata": {},
     "output_type": "execute_result"
    }
   ],
   "source": [
    "res_bsa_sph"
   ]
  },
  {
   "cell_type": "code",
   "execution_count": 10,
   "metadata": {
    "collapsed": true
   },
   "outputs": [],
   "source": [
    "num_elements_bsa = res_sph_Ag['sph_sensor_Ag']['N'] # We use the refinement of the sphere, sicne we measure on it.\n",
    "C_ext_bsa = res_bsa_sph['sphere_bsa']['Cext_0']\n",
    "rate_bsa = 4 # rate of refinement of the sphere since we measure on the sphere. We don't refine the protein mesh  \n",
    "rel_err_bsa = res_bsa_sph['sphere_bsa']['error']"
   ]
  },
  {
   "cell_type": "markdown",
   "metadata": {},
   "source": [
    "### Computing order of convergence"
   ]
  },
  {
   "cell_type": "code",
   "execution_count": 11,
   "metadata": {},
   "outputs": [
    {
     "name": "stdout",
     "output_type": "stream",
     "text": [
      "The order of convergence obtained using meshes of 2k, 8k, and 32k elements is 0.99\n"
     ]
    }
   ],
   "source": [
    "ord_conv_bsa = convergence_helper.ord_convergence(C_ext_bsa, 4)\n",
    "print('The order of convergence obtained using meshes of 2k, 8k, and 32k elements is {:.2f}'.format(ord_conv_bsa))"
   ]
  },
  {
   "cell_type": "markdown",
   "metadata": {},
   "source": [
    "### Generating plot"
   ]
  },
  {
   "cell_type": "code",
   "execution_count": 12,
   "metadata": {},
   "outputs": [
    {
     "data": {
      "image/png": "[encoded data removed]",
      "text/plain": [
       "<Figure size 432x288 with 1 Axes>"
      ]
     },
     "metadata": {},
     "output_type": "display_data"
    }
   ],
   "source": [
    "convergence_helper.plot_sph_complex_convergence(num_elements_bsa, rel_err_bsa)"
   ]
  },
  {
   "cell_type": "markdown",
   "metadata": {},
   "source": [
    "### Generating plot as in paper"
   ]
  },
  {
   "cell_type": "code",
   "execution_count": 13,
   "metadata": {
    "collapsed": true
   },
   "outputs": [],
   "source": [
    "#Running this line you reproduce the exact pdf figure as it appears in the paper\n",
    "convergence_helper.plot_sph_complex_convergence(\n",
    "    num_elements_bsa, rel_err_bsa, file_name='convergence_bsa_sensor_R8_d=1_w=380', paper=True)"
   ]
  },
  {
   "cell_type": "markdown",
   "metadata": {},
   "source": [
    "## Relaxation of parameters study \n",
    "\n",
    "After performing the respective convergence analysis studies, we relaxed the numerical parameters of the computations to reduce the run-time without compromissing accuracy. The following parameters were used to obtain non-convergence results. In all the cases the relative errors where smaller than 1%\n",
    "\n",
    "### Single sphere case:\n",
    "\n",
    "N_sensor = 32768 elements\n",
    "\n",
    "Relaxed parameters:\n",
    "\n",
    "```\n",
    "k_fine = 19\n",
    "P = 6\n",
    "tol = 1e-3\n",
    "```"
   ]
  },
  {
   "cell_type": "markdown",
   "metadata": {},
   "source": [
    "**The analytical result for this case is:**"
   ]
  },
  {
   "cell_type": "code",
   "execution_count": 14,
   "metadata": {},
   "outputs": [],
   "source": [
    "Cext_an = res_sph_Ag['sph_sensor_Ag']['analytical'].round(5)"
   ]
  },
  {
   "cell_type": "markdown",
   "metadata": {},
   "source": [
    "**The computed value with relaxed parameters is:**"
   ]
  },
  {
   "cell_type": "code",
   "execution_count": 15,
   "metadata": {
    "collapsed": true
   },
   "outputs": [],
   "source": [
    "Cext_relaxed_sph = 1843.14855"
   ]
  },
  {
   "cell_type": "code",
   "execution_count": 16,
   "metadata": {},
   "outputs": [
    {
     "name": "stdout",
     "output_type": "stream",
     "text": [
      "percentage error 0.610841937509\n"
     ]
    }
   ],
   "source": [
    "rel_err_sph_Ag = abs(Cext_relaxed_sph - Cext_an)/ Cext_an\n",
    "\n",
    "print('percentage error', rel_err_sph_Ag * 100)"
   ]
  },
  {
   "cell_type": "markdown",
   "metadata": {},
   "source": [
    "### Sensor - BSA system (protein located at +1nm on z axis)\n",
    "\n",
    "* Reduce density of protein form 2 to 1 triangles per Angstrom square and using a 32768 elements for the sensor. \n",
    "\n",
    "```\n",
    "k_fine = 19\n",
    "P = 6\n",
    "tol = 1e-3\n",
    "```"
   ]
  },
  {
   "cell_type": "markdown",
   "metadata": {},
   "source": [
    "**The richardson extrapolated value for this case is:**"
   ]
  },
  {
   "cell_type": "code",
   "execution_count": 17,
   "metadata": {
    "collapsed": true
   },
   "outputs": [],
   "source": [
    "rich_extra = res_bsa_sph['sphere_bsa']['rich_extra'].round(5)"
   ]
  },
  {
   "cell_type": "markdown",
   "metadata": {},
   "source": [
    "**The computed value with relaxed parameters is:**"
   ]
  },
  {
   "cell_type": "code",
   "execution_count": 18,
   "metadata": {
    "collapsed": true
   },
   "outputs": [],
   "source": [
    "Cext_relaxed_sph_bsa = 1767.00731"
   ]
  },
  {
   "cell_type": "code",
   "execution_count": 19,
   "metadata": {
    "collapsed": true
   },
   "outputs": [],
   "source": [
    "rel_err_sph_bsa = abs(Cext_relaxed_sph_bsa - rich_extra)/ rich_extra"
   ]
  },
  {
   "cell_type": "code",
   "execution_count": 20,
   "metadata": {},
   "outputs": [
    {
     "name": "stdout",
     "output_type": "stream",
     "text": [
      "percentage error 0.658818209808\n"
     ]
    }
   ],
   "source": [
    "print('percentage error', rel_err_sph_bsa * 100)"
   ]
  }
 ],
 "metadata": {
  "kernelspec": {
   "display_name": "Python 3",
   "language": "python",
   "name": "python3"
  },
  "language_info": {
   "codemirror_mode": {
    "name": "ipython",
    "version": 3
   },
   "file_extension": ".py",
   "mimetype": "text/x-python",
   "name": "python",
   "nbconvert_exporter": "python",
   "pygments_lexer": "ipython3",
   "version": "3.6.5"
  }
 },
 "nbformat": 4,
 "nbformat_minor": 2
}
