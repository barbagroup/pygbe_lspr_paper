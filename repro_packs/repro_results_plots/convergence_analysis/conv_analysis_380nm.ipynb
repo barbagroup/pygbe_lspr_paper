{
 "cells": [
  {
   "cell_type": "markdown",
   "metadata": {},
   "source": [
    "# Convergence analysis "
   ]
  },
  {
   "cell_type": "code",
   "execution_count": 1,
   "metadata": {},
   "outputs": [],
   "source": [
    "import numpy\n",
    "import pickle\n",
    "import convergence_helper \n",
    "from matplotlib import pyplot, rcParams\n",
    "%matplotlib inline"
   ]
  },
  {
   "cell_type": "markdown",
   "metadata": {},
   "source": [
    "# Ag sphere\n",
    "\n",
    "We run the single sphere LSPR problem for meshes of 512, 2048, 8192 and 32768 elements, \n",
    "\n",
    "Problem parameters:\n",
    "\n",
    "* Metal    : Silver (Ag). (In water at room temeprature)\n",
    "* Radius   : 8 nm\n",
    "* Wavelength: 380 nm\n",
    "\n",
    "Values of dielectric constants obtained by interpolation:\n",
    "\n",
    "* Water dielectric: 1.79721+8.50477e-09j\n",
    "* Silver dielectric: -3.38765+0.19221j\n"
   ]
  },
  {
   "cell_type": "code",
   "execution_count": 2,
   "metadata": {},
   "outputs": [],
   "source": [
    "res_sph_Ag = convergence_helper.pickleload('data/sph_sensor_Ag_convergence.pickle')"
   ]
  },
  {
   "cell_type": "code",
   "execution_count": 3,
   "metadata": {},
   "outputs": [
    {
     "data": {
      "text/plain": [
       "{'sph_sensor_Ag': {'N': array([   512.,   2048.,   8192.,  32768.]),\n",
       "  'iterations': array([ 12.,  16.,  20.,  25.]),\n",
       "  'expected_rate': 4.0,\n",
       "  'Cext_0': array([ 2408.14754193,  1990.45817774,  1889.79976177,  1864.09841232]),\n",
       "  'Time': array([   2.32036567,    8.22125483,   58.10511374,  328.45800805]),\n",
       "  'error': array([ 0.29855923,  0.0733262 ,  0.01904758,  0.00518849]),\n",
       "  'analytical': 1854.4764733250092}}"
      ]
     },
     "execution_count": 3,
     "metadata": {},
     "output_type": "execute_result"
    }
   ],
   "source": [
    "res_sph_Ag"
   ]
  },
  {
   "cell_type": "code",
   "execution_count": 4,
   "metadata": {},
   "outputs": [],
   "source": [
    "num_elements_Ag = res_sph_Ag['sph_sensor_Ag']['N']\n",
    "C_ext_Ag = res_sph_Ag['sph_sensor_Ag']['Cext_0']\n",
    "rate_Ag = res_sph_Ag['sph_sensor_Ag']['expected_rate']\n",
    "rel_err_Ag = res_sph_Ag['sph_sensor_Ag']['error']"
   ]
  },
  {
   "cell_type": "code",
   "execution_count": 5,
   "metadata": {},
   "outputs": [
    {
     "name": "stdout",
     "output_type": "stream",
     "text": [
      "The order of convergence obtained using meshes of 2k, 8k, and 32k elements is 0.98\n"
     ]
    }
   ],
   "source": [
    "ord_conv_Ag = convergence_helper.ord_convergence(C_ext_Ag, 4)\n",
    "print('The order of convergence obtained using meshes of 2k, 8k, and 32k elements is {:.2f}'.format(ord_conv_Ag))"
   ]
  },
  {
   "cell_type": "code",
   "execution_count": 6,
   "metadata": {},
   "outputs": [
    {
     "data": {
      "image/png": "[encoded data removed]",
      "text/plain": [
       "<matplotlib.figure.Figure at 0x7f9098725940>"
      ]
     },
     "metadata": {},
     "output_type": "display_data"
    }
   ],
   "source": [
    "convergence_helper.plot_sph_complex_convergence(num_elements_Ag, rel_err_Ag, Ag=True)"
   ]
  },
  {
   "cell_type": "code",
   "execution_count": 7,
   "metadata": {},
   "outputs": [],
   "source": [
    "convergence_helper.plot_sph_complex_convergence(\n",
    "    num_elements_Ag, rel_err_Ag, file_name='convergence_sph_Ag_R8_w=380', Ag=True, paper=True)"
   ]
  },
  {
   "cell_type": "markdown",
   "metadata": {},
   "source": [
    "# BSA sensor system\n",
    "\n",
    "Convergence analysis of a silver spherical sensor of radius 8 nm with a Bovine Serum Albumina (BSA) protein located at 1 nm of distance in the `z` direction. \n",
    "\n",
    "We selected a constant density of 2 triangles per Angstrom square for the protein mesh, while varying the density of the spherical sensor (512, 2048, 8192, 32768 elements). We computed the order of convergence and Richardson extarpolation using the 3 finest meshes, and calculated the respective relative errors. Finally, we analyze the relative errors for differente tolerances and protein meshes to relax the parameters to perform the simulations. \n",
    "\n",
    "Problem parameters:\n",
    "\n",
    "* Metal    : Silver (Ag). (In water at room temeprature)\n",
    "* Radius   : 8 nm\n",
    "* Wavelength: 380 nm\n",
    "\n",
    "Values of dielectric constants obtained by interpolation:\n",
    "\n",
    "* Water dielectric: 1.79721+8.50477e-09j\n",
    "* Silver dielectric: -3.38765+0.19221j\n",
    "* Protein dielectric: 2.75143+0.28602j\n"
   ]
  },
  {
   "cell_type": "code",
   "execution_count": 8,
   "metadata": {},
   "outputs": [],
   "source": [
    "res_bsa_sph = convergence_helper.pickleload('data/sphere_bsa_convergence.pickle')"
   ]
  },
  {
   "cell_type": "code",
   "execution_count": 9,
   "metadata": {},
   "outputs": [
    {
     "data": {
      "text/plain": [
       "{'sphere_bsa': {'N': array([  98628.,  100164.,  106308.,  130884.]),\n",
       "  'iterations': array([ 136.,  134.,  119.,  123.]),\n",
       "  'expected_rate': 0,\n",
       "  'Cext_0': array([ 2301.56988701,  1905.62523724,  1811.09373056,  1786.98185102]),\n",
       "  'Time': array([ 7261.43004894,  7316.45618081,  6784.89406776,  8520.68913579]),\n",
       "  'error': array([ 0.293943  ,  0.07134284,  0.01819721,  0.00464151]),\n",
       "  'rich_extra': 1778.725875259727}}"
      ]
     },
     "execution_count": 9,
     "metadata": {},
     "output_type": "execute_result"
    }
   ],
   "source": [
    "res_bsa_sph"
   ]
  },
  {
   "cell_type": "code",
   "execution_count": 10,
   "metadata": {},
   "outputs": [],
   "source": [
    "num_elements_bsa = res_sph_Ag['sph_sensor_Ag']['N'] # We use the refinement of the sphere, sicne we measure on it.\n",
    "C_ext_bsa = res_bsa_sph['sphere_bsa']['Cext_0']\n",
    "rate_bsa = 4 # rate of refinement of the sphere since we measure on the sphere. We don't refine the protein mesh  \n",
    "rel_err_bsa = res_bsa_sph['sphere_bsa']['error']"
   ]
  },
  {
   "cell_type": "code",
   "execution_count": 11,
   "metadata": {},
   "outputs": [
    {
     "name": "stdout",
     "output_type": "stream",
     "text": [
      "The order of convergence obtained using meshes of 2k, 8k, and 32k elements is 0.99\n"
     ]
    }
   ],
   "source": [
    "ord_conv_bsa = convergence_helper.ord_convergence(C_ext_bsa, 4)\n",
    "print('The order of convergence obtained using meshes of 2k, 8k, and 32k elements is {:.2f}'.format(ord_conv_bsa))"
   ]
  },
  {
   "cell_type": "code",
   "execution_count": 12,
   "metadata": {},
   "outputs": [
    {
     "data": {
      "image/png": "[encoded data removed]",
      "text/plain": [
       "<matplotlib.figure.Figure at 0x7f9095032f98>"
      ]
     },
     "metadata": {},
     "output_type": "display_data"
    }
   ],
   "source": [
    "convergence_helper.plot_sph_complex_convergence(num_elements_bsa, rel_err_bsa)"
   ]
  },
  {
   "cell_type": "code",
   "execution_count": 13,
   "metadata": {},
   "outputs": [],
   "source": [
    "convergence_helper.plot_sph_complex_convergence(\n",
    "    num_elements_bsa, rel_err_bsa, file_name='convergence_bsa_sensor_R8_d=1_w=380', paper=True)"
   ]
  },
  {
   "cell_type": "markdown",
   "metadata": {},
   "source": [
    "### Extra information about simulations. "
   ]
  },
  {
   "cell_type": "markdown",
   "metadata": {
    "collapsed": true
   },
   "source": [
    "**Parameters used for convergence analysis:** \n",
    "```\n",
    "Precision   double\n",
    "K           4\n",
    "Nk          9  \n",
    "K_fine      37\n",
    "thresold    0.5\n",
    "BSZ         128\n",
    "restart     100\n",
    "tolerance   1e-5\n",
    "max_iter    1000\n",
    "P           15\n",
    "eps         1e-12\n",
    "NCRIT       500\n",
    "theta       0.5   \n",
    "GPU         1\n",
    "```"
   ]
  },
  {
   "cell_type": "markdown",
   "metadata": {},
   "source": [
    "## Relaxation of parameters: \n",
    "* reduce density of protein form 2 to 1 triangles per Angstrom square \n",
    "\n",
    "```\n",
    "k_fine = 37\n",
    "P = 6\n",
    "tol = 1e-3\n",
    "```\n",
    "\n",
    "Solve time = 430 s\n",
    "\n",
    "iterations = 63\n",
    "\n",
    "Cext per surface\n",
    "\n",
    "* Surface 0: 1768.4432836448827 nm^2\n",
    "* Surface 1: 6.297916878775289 nm^2\n"
   ]
  },
  {
   "cell_type": "code",
   "execution_count": 14,
   "metadata": {},
   "outputs": [],
   "source": [
    "C_ext_relax_1 = 1768.4433"
   ]
  },
  {
   "cell_type": "code",
   "execution_count": 15,
   "metadata": {},
   "outputs": [],
   "source": [
    "rich_extra = res_bsa_sph['sphere_bsa']['rich_extra']\n",
    "rel_err_relax_1 = abs(C_ext_relax_1 - rich_extra)/ rich_extra"
   ]
  },
  {
   "cell_type": "code",
   "execution_count": 16,
   "metadata": {},
   "outputs": [
    {
     "name": "stdout",
     "output_type": "stream",
     "text": [
      "percentage error 0.578086562002\n"
     ]
    }
   ],
   "source": [
    "print('percentage error', rel_err_relax_1 * 100)"
   ]
  },
  {
   "cell_type": "markdown",
   "metadata": {},
   "source": [
    "Reducing k_fine from 37 to 19:\n",
    "```\n",
    "k_fine = 19\n",
    "P = 6\n",
    "tol = 1e-3\n",
    "```\n",
    "\n",
    "Solve time = 407 s\n",
    "\n",
    "iterations = 64\n",
    "\n",
    "Cext per surface:\n",
    "* Surface 0: 1767.1938008494571 nm^2\n",
    "* Surface 1: 6.2969291092323045 nm^2\n"
   ]
  },
  {
   "cell_type": "code",
   "execution_count": 17,
   "metadata": {},
   "outputs": [],
   "source": [
    "C_ext_relax_2 = 1767.1938"
   ]
  },
  {
   "cell_type": "code",
   "execution_count": 18,
   "metadata": {},
   "outputs": [],
   "source": [
    "rel_err_relax_2 = abs(C_ext_relax_2 - rich_extra)/ rich_extra"
   ]
  },
  {
   "cell_type": "code",
   "execution_count": 19,
   "metadata": {},
   "outputs": [
    {
     "name": "stdout",
     "output_type": "stream",
     "text": [
      "percentage error 0.648333473984\n"
     ]
    }
   ],
   "source": [
    "print('percentage error', rel_err_relax_2 * 100)"
   ]
  }
 ],
 "metadata": {
  "kernelspec": {
   "display_name": "Python 3",
   "language": "python",
   "name": "python3"
  },
  "language_info": {
   "codemirror_mode": {
    "name": "ipython",
    "version": 3
   },
   "file_extension": ".py",
   "mimetype": "text/x-python",
   "name": "python",
   "nbconvert_exporter": "python",
   "pygments_lexer": "ipython3",
   "version": "3.6.1"
  }
 },
 "nbformat": 4,
 "nbformat_minor": 2
}
