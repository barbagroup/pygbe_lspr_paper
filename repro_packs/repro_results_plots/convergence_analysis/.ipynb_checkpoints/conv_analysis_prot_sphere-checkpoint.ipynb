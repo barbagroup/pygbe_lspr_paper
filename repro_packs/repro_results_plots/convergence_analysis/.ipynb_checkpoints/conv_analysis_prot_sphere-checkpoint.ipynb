{
 "cells": [
  {
   "cell_type": "markdown",
   "metadata": {},
   "source": [
    "# Convergence analysis - sensor protein system\n",
    "\n",
    "COnvergence analysis of a spherical sensor of radius 8 nm with a Bovine Serum Albumina (BSA) protein located at 1 nm of distance in the `z` direction. \n",
    "\n",
    "We selected a constant density of 2 triangles per Angstrom square for the protein mesh, while varying the density of the spherical sensor (512, 2048, 8192, 32768 elements). We computed the order of convergence and Richardson extarpolation using the 3 finest meshes, and calculated the respective relative errors. Finally, we analyze the relative errors for differente tolerances and protein meshes to relax the parameters to perform the simulations. "
   ]
  },
  {
   "cell_type": "code",
   "execution_count": 3,
   "metadata": {},
   "outputs": [],
   "source": [
    "import numpy\n",
    "import pickle\n",
    "from convergence_helper import pickleload, ord_convergence\n",
    "from matplotlib import pyplot, rcParams\n",
    "%matplotlib inline"
   ]
  },
  {
   "cell_type": "code",
   "execution_count": 4,
   "metadata": {},
   "outputs": [],
   "source": [
    "pickle_list = ['512', '2K', '8K', '32K']\n",
    "Cext_sensor = list()\n",
    "for mesh in pickle_list:\n",
    "    file_path = 'data/resultspickle_' + mesh\n",
    "    dict_res = pickleload(file_path)\n",
    "    Cext_sensor.append(dict_res['Cext_0'])\n",
    "    "
   ]
  },
  {
   "cell_type": "code",
   "execution_count": 9,
   "metadata": {},
   "outputs": [],
   "source": [
    "num_elements = numpy.array([512, 2048, 8192, 32768])\n",
    "C_ext = numpy.array(Cext_sensor)"
   ]
  },
  {
   "cell_type": "code",
   "execution_count": 12,
   "metadata": {},
   "outputs": [
    {
     "data": {
      "text/plain": [
       "array([ 3628.7677596 ,  3994.66795416,  4026.86056223,  4030.12907948])"
      ]
     },
     "execution_count": 12,
     "metadata": {},
     "output_type": "execute_result"
    }
   ],
   "source": [
    "C_ext"
   ]
  },
  {
   "cell_type": "code",
   "execution_count": 8,
   "metadata": {},
   "outputs": [
    {
     "name": "stdout",
     "output_type": "stream",
     "text": [
      "1.65001062297\n"
     ]
    }
   ],
   "source": [
    "ord_conv = ord_convergence(Cext, 4)\n",
    "print(ord_conv)"
   ]
  },
  {
   "cell_type": "code",
   "execution_count": 11,
   "metadata": {},
   "outputs": [
    {
     "name": "stdout",
     "output_type": "stream",
     "text": [
      "1.75332440845\n"
     ]
    }
   ],
   "source": [
    "ord_conv = numpy.log((C_ext[1] - C_ext[2])/(C_ext[2] -C_ext[3]))/numpy.log(4)\n",
    "print(ord_conv)"
   ]
  },
  {
   "cell_type": "code",
   "execution_count": 3,
   "metadata": {},
   "outputs": [
    {
     "name": "stdout",
     "output_type": "stream",
     "text": [
      "0.984954420855\n"
     ]
    }
   ],
   "source": [
    "ord_conv = numpy.log((C_ext[1] - C_ext[2])/(C_ext[2] -C_ext[3]))/numpy.log(4)\n",
    "print(ord_conv)"
   ]
  },
  {
   "cell_type": "code",
   "execution_count": 4,
   "metadata": {
    "collapsed": true
   },
   "outputs": [],
   "source": [
    "def richardson_extrapolation(array):\n",
    "    \"\"\"\n",
    "    Performs an estimate of the exact solution using\n",
    "    Richardson extrapolation, given by\n",
    "\n",
    "    f_ex = (f_1 * f_3 - f_2^2) / (f_3 - 2*f_2+f_1)\n",
    "\n",
    "    where f_1 is a result from the finest grid and f_3 is from the coarsest.\n",
    "    The grids f_1, f_2, f_3 should have the same refinement ratio (e.g. 4 -> 8 -> 16)\n",
    "\n",
    "    Arguments:\n",
    "    ----------\n",
    "    array: contains C_ext\n",
    "\n",
    "    Returns:\n",
    "    --------\n",
    "    f_ex : float, richardson_extrapolation estimated exact solution.  \n",
    "    \"\"\"\n",
    "    \n",
    "    f1 = array[3] \n",
    "    f2 = array[2]\n",
    "    f3 = array[1]\n",
    "\n",
    "    f_ex = (f1 * f3 - f2**2) / (f3 - 2 * f2 + f1)\n",
    "\n",
    "    return f_ex \n"
   ]
  },
  {
   "cell_type": "code",
   "execution_count": 5,
   "metadata": {},
   "outputs": [
    {
     "name": "stdout",
     "output_type": "stream",
     "text": [
      "6799.27434252\n"
     ]
    }
   ],
   "source": [
    "rich_ext = richardson_extrapolation(C_ext)\n",
    "print(rich_ext)"
   ]
  },
  {
   "cell_type": "code",
   "execution_count": 6,
   "metadata": {},
   "outputs": [
    {
     "name": "stdout",
     "output_type": "stream",
     "text": [
      "percentage error [ 29.47358978   7.17411128   1.83132936   0.46748191]\n"
     ]
    }
   ],
   "source": [
    "rel_error = abs((C_ext - rich_ext)/rich_ext)\n",
    "print('percentage error', rel_error*100)"
   ]
  },
  {
   "cell_type": "code",
   "execution_count": 12,
   "metadata": {
    "collapsed": true
   },
   "outputs": [],
   "source": [
    "def plot_sph_complex_convergence(N, error):\n",
    "    pyplot.figure(figsize=(8,5))\n",
    "\n",
    "    rcParams['font.family'] = 'serif'\n",
    "    rcParams['font.size'] = 16\n",
    "    rcParams['xtick.top'] = True\n",
    "    rcParams['ytick.right'] = True\n",
    "    rcParams['axes.linewidth'] = 2\n",
    "\n",
    "    asymp = N[-2]*error[-2]/N\n",
    "\n",
    "    pyplot.loglog(N, error, ls='',marker='o', c='k', mew=1.5, mfc='w', ms=10, label='sphere_sensor')\n",
    "    pyplot.loglog(N, asymp, c='k', marker='None', ls=':', lw=2, label=None)\n",
    "\n",
    "    loc = (3*N[-2]+N[-1])/4\n",
    "\n",
    "    tex_loc = numpy.array((loc,N[-2]*error[-2]/loc))\n",
    "    \n",
    "    pyplot.text(tex_loc[0], tex_loc[1],'N$^{-1}$', fontsize=12,\n",
    "                rotation=-35,rotation_mode='anchor')\n",
    "\n",
    "    pyplot.xlabel('N')\n",
    "    pyplot.ylabel('Relative error')\n",
    "    pyplot.tick_params(axis='both', length=10, width=1, which='major', direction='in')\n",
    "    pyplot.tick_params(axis='both', length=5, width=1, which='minor', direction='in')\n",
    "    #pyplot.ylim(1e-4,1)\n",
    "    #pyplot.xlim(1e2,1e5)\n",
    "    pyplot.legend(loc='best')\n",
    "    pyplot.grid(True, which=\"both\")\n",
    "    \n",
    "    pyplot.savefig('convergence_bsa_sensor_R25_d=1.png', dpi=80, bbox_inches='tight', pad_inches=0.1)\n"
   ]
  },
  {
   "cell_type": "code",
   "execution_count": 13,
   "metadata": {},
   "outputs": [
    {
     "data": {
      "image/png": "[encoded data removed]",
      "text/plain": [
       "<matplotlib.figure.Figure at 0x7f9018d69898>"
      ]
     },
     "metadata": {},
     "output_type": "display_data"
    }
   ],
   "source": [
    "plot_sph_complex_convergence(num_elements, rel_error)"
   ]
  },
  {
   "cell_type": "markdown",
   "metadata": {
    "collapsed": true
   },
   "source": [
    "Params used for convergence analysis: \n",
    "```\n",
    "Precision   double\n",
    "K           4\n",
    "Nk          9  \n",
    "K_fine      37\n",
    "thresold    0.5\n",
    "BSZ         128\n",
    "restart     100\n",
    "tolerance   1e-5\n",
    "max_iter    1000\n",
    "P           15\n",
    "eps         1e-12\n",
    "NCRIT       500\n",
    "theta       0.5   \n",
    "GPU         1\n",
    "```"
   ]
  },
  {
   "cell_type": "markdown",
   "metadata": {},
   "source": [
    "## Relaxation of parameters: \n",
    "```\n",
    "k_fine = 19\n",
    "P = 6\n",
    "```"
   ]
  },
  {
   "cell_type": "code",
   "execution_count": 12,
   "metadata": {
    "collapsed": true
   },
   "outputs": [],
   "source": [
    "C_ext_relax = 6756.10550"
   ]
  },
  {
   "cell_type": "code",
   "execution_count": 13,
   "metadata": {},
   "outputs": [
    {
     "name": "stdout",
     "output_type": "stream",
     "text": [
      "percentage error 0.63490367274\n"
     ]
    }
   ],
   "source": [
    "rel_error_relax = abs((C_ext_relax - rich_ext)/rich_ext)\n",
    "print('percentage error', rel_error_relax*100)"
   ]
  },
  {
   "cell_type": "code",
   "execution_count": 14,
   "metadata": {
    "collapsed": true
   },
   "outputs": [],
   "source": [
    "time_Cext_relax = 1741.98 #sec (29 min)"
   ]
  },
  {
   "cell_type": "markdown",
   "metadata": {},
   "source": [
    "## relaxation + using density 1 on protein mesh\n"
   ]
  },
  {
   "cell_type": "code",
   "execution_count": 15,
   "metadata": {},
   "outputs": [
    {
     "name": "stdout",
     "output_type": "stream",
     "text": [
      "percentage error 0.632808155001\n"
     ]
    }
   ],
   "source": [
    "C_ext_rel_d1 = 6756.24798\n",
    "\n",
    "rel_error_rel_d1 = abs((C_ext_rel_d1 - rich_ext)/rich_ext)\n",
    "print('percentage error', rel_error_rel_d1*100)\n",
    "\n",
    "time_Cext_relax = 660.05 #sec (11 min)"
   ]
  },
  {
   "cell_type": "markdown",
   "metadata": {},
   "source": [
    "## relaxation + using density 1 on protein mesh and tol 1e-4 (original is with 1e-5)\n"
   ]
  },
  {
   "cell_type": "code",
   "execution_count": 16,
   "metadata": {},
   "outputs": [
    {
     "name": "stdout",
     "output_type": "stream",
     "text": [
      "percentage error 0.632785358451\n"
     ]
    }
   ],
   "source": [
    "C_ext_d1_tol4 = 6756.24953\n",
    "\n",
    "rel_error_d1_tol4 = abs((C_ext_d1_tol4 - rich_ext)/rich_ext)\n",
    "print('percentage error', rel_error_d1_tol4*100)\n",
    "\n",
    "time_Cext_d1_tol4 = 583.2 #sec (9.7 min)"
   ]
  },
  {
   "cell_type": "markdown",
   "metadata": {},
   "source": [
    "## tol 1e-3"
   ]
  },
  {
   "cell_type": "code",
   "execution_count": 17,
   "metadata": {},
   "outputs": [
    {
     "name": "stdout",
     "output_type": "stream",
     "text": [
      "percentage error 0.638652455142\n"
     ]
    }
   ],
   "source": [
    "C_ext_d1_tol3 = 6755.85061\n",
    "\n",
    "rel_error_d1_tol3 = abs((C_ext_d1_tol3 - rich_ext)/rich_ext)\n",
    "print('percentage error', rel_error_d1_tol3*100)\n",
    "\n",
    "time_Cext_d1_tol4 = 438.2 #sec (7.3 min)"
   ]
  },
  {
   "cell_type": "code",
   "execution_count": null,
   "metadata": {
    "collapsed": true
   },
   "outputs": [],
   "source": []
  }
 ],
 "metadata": {
  "kernelspec": {
   "display_name": "Python 3",
   "language": "python",
   "name": "python3"
  },
  "language_info": {
   "codemirror_mode": {
    "name": "ipython",
    "version": 3
   },
   "file_extension": ".py",
   "mimetype": "text/x-python",
   "name": "python",
   "nbconvert_exporter": "python",
   "pygments_lexer": "ipython3",
   "version": "3.5.3"
  }
 },
 "nbformat": 4,
 "nbformat_minor": 2
}
