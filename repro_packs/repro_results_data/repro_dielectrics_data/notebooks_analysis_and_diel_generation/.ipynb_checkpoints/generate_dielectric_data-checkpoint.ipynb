{
 "cells": [
  {
   "cell_type": "markdown",
   "metadata": {},
   "source": [
    "# Generate dielectrics\n",
    "\n",
    "In this notebook we will generate the dielectric data needed for all the simulations presented.\n",
    "\n",
    "If you want to generate the data, run all the notebook and that'll do it."
   ]
  },
  {
   "cell_type": "markdown",
   "metadata": {},
   "source": [
    "**For the data needed for verification purposes.** "
   ]
  },
  {
   "cell_type": "markdown",
   "metadata": {},
   "source": [
    "### Silver"
   ]
  },
  {
   "cell_type": "code",
   "execution_count": 1,
   "metadata": {
    "collapsed": true
   },
   "outputs": [],
   "source": [
    "!python scripts/generate_dielectric.py -s 3800 -e 4000 -n 41 -d silver_water_raw-data/silver_JC72_ang.txt -o ../dielectrics_data/wave_ang_silver_diel_3800-4000.txt"
   ]
  },
  {
   "cell_type": "markdown",
   "metadata": {},
   "source": [
    "### Water"
   ]
  },
  {
   "cell_type": "code",
   "execution_count": 2,
   "metadata": {
    "collapsed": true
   },
   "outputs": [],
   "source": [
    "!python scripts/generate_dielectric.py -s 3800 -e 4000 -n 41 -d silver_water_raw-data/water_HQ72_ang.txt -o ../dielectrics_data/wave_ang_water_diel_3800-4000.txt"
   ]
  },
  {
   "cell_type": "markdown",
   "metadata": {},
   "source": [
    "**For simulations of LSPR response (wavelength range 382-387 nm)**"
   ]
  },
  {
   "cell_type": "markdown",
   "metadata": {},
   "source": [
    "### Silver"
   ]
  },
  {
   "cell_type": "code",
   "execution_count": 3,
   "metadata": {},
   "outputs": [],
   "source": [
    "!python scripts/generate_dielectric.py -s 3820 -e 3870 -n 21 -d silver_water_raw-data/silver_JC72_ang.txt -o ../dielectrics_data/wave_ang_silver_diel_3820-3870.txt"
   ]
  },
  {
   "cell_type": "markdown",
   "metadata": {},
   "source": [
    "### Water"
   ]
  },
  {
   "cell_type": "code",
   "execution_count": 4,
   "metadata": {
    "collapsed": true
   },
   "outputs": [],
   "source": [
    "!python scripts/generate_dielectric.py -s 3820 -e 3870 -n 21 -d silver_water_raw-data/water_HQ72_ang.txt -o ../dielectrics_data/wave_ang_water_diel_3820-3870.txt"
   ]
  },
  {
   "cell_type": "markdown",
   "metadata": {},
   "source": [
    "### Bovine Serum Albumina (BSA)\n",
    "In this case the wavelength are passed in `nm` but the output will be in Angstrom since we needed in this unit for simulation purposes."
   ]
  },
  {
   "cell_type": "code",
   "execution_count": 5,
   "metadata": {
    "collapsed": true
   },
   "outputs": [],
   "source": [
    "!python scripts/generate_protein_dielectric.py -s 382 -e 387 -n 21 -o ../dielectrics_data/wave_ang_prot_diel_3820-3870.txt"
   ]
  }
 ],
 "metadata": {
  "kernelspec": {
   "display_name": "Python 3",
   "language": "python",
   "name": "python3"
  },
  "language_info": {
   "codemirror_mode": {
    "name": "ipython",
    "version": 3
   },
   "file_extension": ".py",
   "mimetype": "text/x-python",
   "name": "python",
   "nbconvert_exporter": "python",
   "pygments_lexer": "ipython3",
   "version": "3.5.5"
  }
 },
 "nbformat": 4,
 "nbformat_minor": 2
}
