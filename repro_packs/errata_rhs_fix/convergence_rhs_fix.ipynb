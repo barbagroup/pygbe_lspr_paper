{
 "cells": [
  {
   "cell_type": "markdown",
   "metadata": {},
   "source": [
    "# Convergence analysis after RHS bug-fix"
   ]
  },
  {
   "cell_type": "markdown",
   "metadata": {},
   "source": [
    "In this notebook we present the convergence analysis for the case of a sensor and 1 protein (Figure 7 on paper). We can see that, after the bug-fix on the RHS function, the order of convergence is not affected. "
   ]
  },
  {
   "cell_type": "code",
   "execution_count": 1,
   "metadata": {},
   "outputs": [],
   "source": [
    "import numpy\n",
    "import pickle\n",
    "import convergence_helper \n",
    "from matplotlib import pyplot, rcParams\n",
    "%matplotlib inline"
   ]
  },
  {
   "cell_type": "markdown",
   "metadata": {},
   "source": [
    "### General information about computations. "
   ]
  },
  {
   "cell_type": "markdown",
   "metadata": {
    "collapsed": true
   },
   "source": [
    "**Parameters used for convergence analysis:** \n",
    "```\n",
    "Precision   double\n",
    "K           4\n",
    "Nk          9  \n",
    "K_fine      37\n",
    "thresold    0.5\n",
    "BSZ         128\n",
    "restart     100\n",
    "tolerance   1e-5\n",
    "max_iter    1000\n",
    "P           15\n",
    "eps         1e-12\n",
    "NCRIT       500\n",
    "theta       0.5   \n",
    "GPU         1\n",
    "```"
   ]
  },
  {
   "cell_type": "markdown",
   "metadata": {},
   "source": [
    "# BSA sensor system\n",
    "\n",
    "Convergence analysis of a silver spherical sensor of radius 8 nm with a Bovine Serum Albumina (BSA) protein located at 1 nm of distance in the `z` direction. \n",
    "\n",
    "We selected a constant density of 2 triangles per Angstrom square for the protein mesh, while varying the density of the spherical sensor (512, 2048, 8192, 32768 elements). We computed the order of convergence and Richardson extarpolation using the 3 finest meshes, and calculated the respective relative errors. \n",
    "Problem parameters:\n",
    "\n",
    "* Metal    : Silver (Ag). (In water at room temeprature)\n",
    "* Radius   : 8 nm\n",
    "* Wavelength: 380 nm\n",
    "\n",
    "Values of dielectric constants obtained by interpolation:\n",
    "\n",
    "* Water dielectric: 1.79721+8.50477e-09j\n",
    "* Silver dielectric: -3.38765+0.19221j\n",
    "* Protein dielectric: 2.75143+0.28602j\n"
   ]
  },
  {
   "cell_type": "markdown",
   "metadata": {},
   "source": [
    "### Loading results data"
   ]
  },
  {
   "cell_type": "code",
   "execution_count": 2,
   "metadata": {},
   "outputs": [],
   "source": [
    "res_bsa_sph = convergence_helper.pickleload('data/rhs_fix_convergence/sphere_bsa_convergence.pickle')"
   ]
  },
  {
   "cell_type": "code",
   "execution_count": 3,
   "metadata": {},
   "outputs": [
    {
     "data": {
      "text/plain": [
       "{'sphere_bsa': {'N': array([  98628.,  100164.,  106308.,  130884.]),\n",
       "  'iterations': array([ 110.,  106.,  108.,  123.]),\n",
       "  'expected_rate': 0,\n",
       "  'Cext_0': array([ 2306.18473156,  1908.9072617 ,  1814.08172336,  1789.8976739 ]),\n",
       "  'Time': array([ 5859.85506034,  5739.2496798 ,  6131.19562221,  8464.7072444 ]),\n",
       "  'error': array([ 0.29443257,  0.07144571,  0.01822132,  0.00464712]),\n",
       "  'rich_extra': 1781.6182865709523}}"
      ]
     },
     "execution_count": 3,
     "metadata": {},
     "output_type": "execute_result"
    }
   ],
   "source": [
    "res_bsa_sph"
   ]
  },
  {
   "cell_type": "markdown",
   "metadata": {},
   "source": [
    "The values for the case of the paper were:\n",
    "```\n",
    "{'sphere_bsa': {'Cext_0': array([ 2301.56988701,  1905.62523724,  1811.09373056,  1786.98185102]),\n",
    "  'N': array([  98628.,  100164.,  106308.,  130884.]),\n",
    "  'Time': array([ 8232.30674219,  8231.11177182,  7656.23715186,  9579.5464294 ]),\n",
    "  'error': array([ 0.293943  ,  0.07134284,  0.01819721,  0.00464151]),\n",
    "  'expected_rate': 0,\n",
    "  'iterations': array([ 136.,  134.,  119.,  123.]),\n",
    "  'rich_extra': 1778.725875259727}}\n",
    "```"
   ]
  },
  {
   "cell_type": "code",
   "execution_count": 4,
   "metadata": {},
   "outputs": [],
   "source": [
    "num_elements_bsa = numpy.array([   512.,   2048.,   8192.,  32768.]) # We use the refinement of the sphere, since we measure on it.\n",
    "C_ext_bsa = res_bsa_sph['sphere_bsa']['Cext_0']\n",
    "rate_bsa = 4 # rate of refinement of the sphere since we measure on the sphere. We don't refine the protein mesh  \n",
    "rel_err_bsa = res_bsa_sph['sphere_bsa']['error']"
   ]
  },
  {
   "cell_type": "markdown",
   "metadata": {},
   "source": [
    "### Computing order of convergence"
   ]
  },
  {
   "cell_type": "code",
   "execution_count": 5,
   "metadata": {},
   "outputs": [
    {
     "name": "stdout",
     "output_type": "stream",
     "text": [
      "The order of convergence obtained using meshes of 2k, 8k, and 32k elements is 0.99\n"
     ]
    }
   ],
   "source": [
    "ord_conv_bsa = convergence_helper.ord_convergence(C_ext_bsa, 4)\n",
    "print('The order of convergence obtained using meshes of 2k, 8k, and 32k elements is {:.2f}'.format(ord_conv_bsa))"
   ]
  },
  {
   "cell_type": "markdown",
   "metadata": {},
   "source": [
    "### Generating plot"
   ]
  },
  {
   "cell_type": "code",
   "execution_count": 6,
   "metadata": {},
   "outputs": [
    {
     "data": {
      "image/png": "[encoded data removed]",
      "text/plain": [
       "<Figure size 432x288 with 1 Axes>"
      ]
     },
     "metadata": {
      "needs_background": "light"
     },
     "output_type": "display_data"
    }
   ],
   "source": [
    "convergence_helper.plot_sph_complex_convergence(num_elements_bsa, rel_err_bsa)"
   ]
  }
 ],
 "metadata": {
  "kernelspec": {
   "display_name": "Python 3",
   "language": "python",
   "name": "python3"
  },
  "language_info": {
   "codemirror_mode": {
    "name": "ipython",
    "version": 3
   },
   "file_extension": ".py",
   "mimetype": "text/x-python",
   "name": "python",
   "nbconvert_exporter": "python",
   "pygments_lexer": "ipython3",
   "version": "3.6.7"
  }
 },
 "nbformat": 4,
 "nbformat_minor": 2
}
